{
 "cells": [
  {
   "cell_type": "markdown",
   "metadata": {},
   "source": [
    "<h2>Notation</h2>\n",
    "다음은 여러분이 보게 될 표기법 중 일부를 요약한 것이다.\n",
    "\n"
   ]
  },
  {
   "cell_type": "markdown",
   "metadata": {},
   "source": [
    "<img src=\"2주차_2.png\">"
   ]
  },
  {
   "cell_type": "markdown",
   "metadata": {},
   "source": [
    "<h3>Tools</h3>\n",
    "이 실습에서는 다음을 활용한다.\n",
    "<ul>\n",
    "    <ol>\n",
    "        <li>NumPy: 과학 컴퓨팅을 위한 인기 라이브러리</li>\n",
    "        <li>Matplotlib: 데이터 플로팅에 널리 사용되는 라이브러리</li>\n",
    "    </ol>\n",
    "<ul>"
   ]
  },
  {
   "cell_type": "code",
   "execution_count": 2,
   "metadata": {},
   "outputs": [],
   "source": [
    "import numpy as np\n",
    "import matplotlib.pyplot as plt"
   ]
  },
  {
   "cell_type": "markdown",
   "metadata": {},
   "source": [
    "<h2>Problem Statement</h2>\n",
    "<img src=\"2주차_2_1.png\">\n",
    "강의에서 마찬가지로 주택 가격 예측의 동기 부여 사례를 사용하게 된다. 이 실습에서는 2개의 데이터 포인트만 있는 간단한 데이터 세트를 사용한다. 즉, 1000평방피트의 주택은 $300000에 판매되고, 2000평방피트의 주택은 $500000에 판매된다.\n",
    "이 두 포인트가 데이터 또는 훈련 세트를 구성한다. 이 실습에서 크기 단위는 1000평방피트이고 가격 ㅏㄴ위는 1000달러이다."
   ]
  },
  {
   "cell_type": "markdown",
   "metadata": {},
   "source": [
    "<table> \n",
    "    <tr>\n",
    "        <td><b>Size(1000sqft)</b></td>\n",
    "        <td><b>price</b></tb>\n",
    "    </tr>\n",
    "    <tr>\n",
    "        <td>1.0</td>\n",
    "        <td>300</td>\n",
    "    </tr>\n",
    "    <tr>\n",
    "        <td>2.0</td>\n",
    "        <td>500</td>\n",
    "    <tr>\n",
    "</table>\n",
    "\n",
    "이 두 점을 통해 선형 회귀모델(위에 파란색 직선으로 표시됨)을 적용하여 다른 주택(예: 1200평방비트의 주택)의 가격을 예측할 수 있다.\n",
    "\n",
    "다음 코드 셀을 실행하여 <mark>x_train</mark>와 <mark>y_train</mark> 변수를 생성하여라. 데이터는 1차원 NumPy배열에 저장된다."
   ]
  },
  {
   "cell_type": "code",
   "execution_count": 3,
   "metadata": {},
   "outputs": [
    {
     "name": "stdout",
     "output_type": "stream",
     "text": [
      "x_train=[1. 2.]\n",
      "y_train=[300. 500.]\n"
     ]
    }
   ],
   "source": [
    "#x_train is the input variable(size in 1000 square feet)\n",
    "#y_train is the target (price in 1000s of dollars)\n",
    "x_train=np.array([1.0,2.0])\n",
    "y_train=np.array([300.0,500.0])\n",
    "print(f\"x_train={x_train}\")\n",
    "print(f\"y_train={y_train}\")"
   ]
  },
  {
   "cell_type": "markdown",
   "metadata": {},
   "source": [
    "<h3>Number of training examples <mark>m</mark></h3>\n",
    "<ins>학습 예시의 수를 나타내기 위해 'm'을 사용한다.</ins> NumPy배열에는 '.shape'매개변수가 있다.\n",
    "<mark>x_train.shpae</mark>는 각 차원에 대한 항목이 포함된 Python 튜플을 반환한다. <mark>x_train.shape[0]</mark>은 아래와 같이 배열의 길이와 예제의 개수이다."
   ]
  },
  {
   "cell_type": "code",
   "execution_count": 4,
   "metadata": {},
   "outputs": [
    {
     "name": "stdout",
     "output_type": "stream",
     "text": [
      "x_train.shape: (2,)\n",
      "Number of training examples is: 2\n"
     ]
    }
   ],
   "source": [
    "#m is the number of training examples\n",
    "print(f\"x_train.shape: {x_train.shape}\")\n",
    "m=x_train.shape[0]\n",
    "print(f\"Number of training examples is: {m}\")"
   ]
  },
  {
   "cell_type": "markdown",
   "metadata": {},
   "source": [
    "아래와 같이 Python <mark>len()</mark>함수를 사용할 수도 있다."
   ]
  },
  {
   "cell_type": "code",
   "execution_count": 5,
   "metadata": {},
   "outputs": [
    {
     "name": "stdout",
     "output_type": "stream",
     "text": [
      "Number of training examples is: 2\n"
     ]
    }
   ],
   "source": [
    "m=len(x_train)\n",
    "print(f\"Number of training examples is: {m}\")"
   ]
  },
  {
   "cell_type": "markdown",
   "metadata": {},
   "source": [
    "<h3>Training example: <mark>x_i</mark>, <mark>y_i</mark></h3>\n",
    "<p><i>i<sup>th</sup></i>훈련 예시를 나타내기 위해 (x<sup>(i)</sup>, y<sup>(i)</sup>)를 사용할 것이다. Python은 0 인덱시이므로 (x<sup>(0)</sup>, y<sup>(0)</sup>)는 (1.0, 300.0)이고 (x<sup(i)</sup>, y<sup>(1)</sup>)은 (2.0, 500.0)이다.</p>\n",
    "<p>NumPy배열의 값에 액세스 하려면 원하는 오프셋으로 배열을 인덱싱한다. 예를 들어 <mark>x_train</mark>의 위치 0에 액세스하는 구문은 <mark>x_train[0]</mark>이다. <i>i<sup>th</sup></i>훈련 예제를 얻으려면 아래의 다음 코드 블록을 실행하여라.</p>"
   ]
  },
  {
   "cell_type": "code",
   "execution_count": 7,
   "metadata": {},
   "outputs": [
    {
     "name": "stdout",
     "output_type": "stream",
     "text": [
      "(x^(0), y^(0)= (1.0, 300.0))\n"
     ]
    }
   ],
   "source": [
    "i=0 # Change this to 1 to see(x^1, y^1)\n",
    "\n",
    "x_i=x_train[i]\n",
    "y_i=y_train[i]\n",
    "print(f\"(x^({i}), y^({i})= ({x_i}, {y_i}))\")"
   ]
  },
  {
   "cell_type": "markdown",
   "metadata": {},
   "source": [
    "<h3>Plotting the data</h3>\n",
    "<p>아래 셀에 표시된 것처럼 <mark>matplotlib</mark> 라이브러리의 <mark>scatter()</mark>의 함수를 사용하여 이 두 점을 그릴 수 있다.</p>\n",
    "<ul>\n",
    "    <li>함수 인수 <mark>marker</mark> 및 <mark>c</mark>는 점을 빨간색 십자가로 표시한다.</li>\n",
    "</ul>\n",
    "<p><mark>matplotlib</mark> 라이브러리의 다른 기능을 사용하여 표시할 제목과 레이블 설정을 할 수 있다.</p>"
   ]
  },
  {
   "cell_type": "code",
   "execution_count": 8,
   "metadata": {},
   "outputs": [
    {
     "data": {
      "image/png": "[encoded data removed]",
      "text/plain": [
       "<Figure size 640x480 with 1 Axes>"
      ]
     },
     "metadata": {},
     "output_type": "display_data"
    }
   ],
   "source": [
    "# Plot the data points\n",
    "plt.scatter(x_train, y_train, marker='x', c='r')#점: x모양, 색깔: 빨간색\n",
    "\n",
    "#Set the title\n",
    "plt.title(\"Housing Prices\")\n",
    "\n",
    "#Set the y-axis label\n",
    "plt.ylabel(\"Price(in 1000s of dollars)\")\n",
    "#Set the x-axis label\n",
    "plt.xlabel('Size(1000sqft)')\n",
    "plt.show()"
   ]
  },
  {
   "cell_type": "markdown",
   "metadata": {},
   "source": [
    "<h3>Model function</h3>\n",
    "<img src=\"2주차_2_2.png\">\n",
    "<p>강의에서 설명했듯이 선형회귀에 대한 모델 함수(<mark>x</mark>에서 <mark>y</mark>로 매핑되는 함수)는 다음과 같이 표현된다.</p>\n",
    "<p><b><i>f<swp>w, b</sub>(x<sup>(i)</sup>)=wx<sup>(i)</sup>+b</i>   (1)</b></p>\n",
    "<p>위의 공식은 직선을 표현하는 방법이다. <i>w</i>와 <i>b</i>의 값이 다르면 플롯에 다른 직선이 표시된다.</p>\n",
    "<p>아래 코드 블록을 통해 이에 대한 더 나은 직관을 얻으려고 노력해 보겠다. <i>w=100</i> 및<i>b=100</i>부터 시작하도록 하겠다.</p>\n",
    "<p><b>Note: 이 셀로 돌아와서 모델의 <i>w</i>및 <i>b</i> 매개변수를 조정할 수 있다.</b></p>"
   ]
  },
  {
   "cell_type": "code",
   "execution_count": 9,
   "metadata": {},
   "outputs": [
    {
     "name": "stdout",
     "output_type": "stream",
     "text": [
      "w: 100\n",
      "b: 100\n"
     ]
    }
   ],
   "source": [
    "w=100\n",
    "b=100\n",
    "print(f\"w: {w}\")\n",
    "print(f\"b: {b}\")"
   ]
  },
  {
   "cell_type": "markdown",
   "metadata": {},
   "source": [
    "<p>이제 두 데이터 포인트에 대한 <b><i>f<sub>w, b</sub>(x<sup>(i)</sup>)</i></b>값을 계산해 보겠다. 각 데이터 포인트에 대해 다음과 같이 명시적으로 작성할 수 있다.</p>\n",
    "<p><i>x<sup>(0)</sup></i>의 경우: <mark>f_wb=w*x[0]+b</mark></p>\n",
    "<p><i>x<sup>(1)</sup></i>의 경우: <mark>f_wb=w*x[1]+b</mark</p>\n",
    "<p>데이터 포인트 수가 많은 경우 이는 다루기 힘들고 반복적일 수 있다. 따라서 대신 아래 <mark>compute_model_output</mark>함수에 표시된 대로 <mark>for</mark> 루프에서 함수 출력을 계산할 수 있다.</p>\n",
    "<ul>\n",
    "    <ol><b>Note: </b>인수 설명 <mark>(ndarray (m, ))</mark>는 모양 (m, )의 NumPy n차원 배열을 설명한다.</ol>\n",
    "    <ol><mark>(스칼라)</mark>는 차원 없이 크기만 있는 인수를 설명한다.</ol>\n",
    "    <ol><b><Note:</b> <mark>np.zero()</mark> 는 <i>n</i> 항목이 있는 1차원 numpy 배열을 반환한다.</ol>\n",
    "</ul>"
   ]
  },
  {
   "cell_type": "code",
   "execution_count": 18,
   "metadata": {},
   "outputs": [],
   "source": [
    "def compute_model_output(x, w, b):\n",
    "    '''\n",
    "    Computes the prediction of a linear model Args:\n",
    "        x(ndarray (m, )): Data, m examples\n",
    "        w, b(scalars): model parameters\n",
    "    Returns\n",
    "        y(ndarray (m,)): target values\n",
    "    '''\n",
    "    m=x.shape[0]\n",
    "    f_wb=np.zeros(m)\n",
    "    for i in range(m):\n",
    "        f_wb[i]=w*x[i]+b\n",
    "    \n",
    "    return f_wb"
   ]
  },
  {
   "cell_type": "markdown",
   "metadata": {},
   "source": [
    "이제 <mark>compute_model_output</mark>함수를 호출하고 출력을 플로팅 해보겠다."
   ]
  },
  {
   "cell_type": "code",
   "execution_count": 19,
   "metadata": {},
   "outputs": [
    {
     "data": {
      "image/png": "[encoded data removed]",
      "text/plain": [
       "<Figure size 640x480 with 1 Axes>"
      ]
     },
     "metadata": {},
     "output_type": "display_data"
    }
   ],
   "source": [
    "tmp_f_wb = compute_model_output(x_train, w, b,)\n",
    "\n",
    "# Plot our model prediction\n",
    "plt.plot(x_train, tmp_f_wb, c='b',label='Our Prediction')\n",
    "\n",
    "# Plot the data points\n",
    "plt.scatter(x_train, y_train, marker='x', c='r',label='Actual Values')\n",
    "\n",
    "# Set the title\n",
    "plt.title(\"Housing Prices\")\n",
    "# Set the y-axis label\n",
    "plt.ylabel('Price (in 1000s of dollars)')\n",
    "# Set the x-axis label\n",
    "plt.xlabel('Size (1000 sqft)')\n",
    "plt.legend()\n",
    "plt.show()"
   ]
  },
  {
   "cell_type": "markdown",
   "metadata": {},
   "source": [
    "<p>보시다시피 <b><i>w=100</i></b>및 <b><i>b=100</i></b>를 설정해도 데이터에 맞는 선이 아니다.</p>"
   ]
  },
  {
   "cell_type": "markdown",
   "metadata": {},
   "source": [
    "<h3>Challenge</h3>\n",
    "<p><b><i>w</i></b> 및 <b><i>b</i></b>의 다양한 값을 실험해 보자. 에디터에맞는 라인의 값은 무엇이어야 하는가?</p>\n",
    "<h4>Tip: </h4>\n",
    "<p><i><b>w=200, b=100</b></i>으로 변경해보자</p>\n",
    "<h3>Prediction</h3>\n",
    "<p>이제 모델이 있으므로 이를 사용하여 원래의 예측을 할 수 있다. 1200제곱피트의 주택 가격을 예측해 보겠다. <i>x</i>의 단위는 1000sqft이므로 <i>x</i>는 1.2이다.</p>"
   ]
  },
  {
   "cell_type": "code",
   "execution_count": 20,
   "metadata": {},
   "outputs": [
    {
     "name": "stdout",
     "output_type": "stream",
     "text": [
      "$ 340thousand dollors\n"
     ]
    }
   ],
   "source": [
    "w=200\n",
    "b=100\n",
    "x_i=1.2\n",
    "cost_1200sqft=w*x_i+b\n",
    "print(f\"${cost_1200sqft: .0f}thousand dollors\")"
   ]
  }
 ],
 "metadata": {
  "kernelspec": {
   "display_name": "Python 3",
   "language": "python",
   "name": "python3"
  },
  "language_info": {
   "codemirror_mode": {
    "name": "ipython",
    "version": 3
   },
   "file_extension": ".py",
   "mimetype": "text/x-python",
   "name": "python",
   "nbconvert_exporter": "python",
   "pygments_lexer": "ipython3",
   "version": "3.9.2"
  },
  "orig_nbformat": 4
 },
 "nbformat": 4,
 "nbformat_minor": 2
}
