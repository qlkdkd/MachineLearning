{
 "cells": [
  {
   "cell_type": "markdown",
   "metadata": {},
   "source": [
    "# Python for Machine Learning - Basic\n",
    "파이썬은 그 자체로 훌륭한 범용 프로그래밍 언어이면서, 몇 가지 인기있는 라이브러리(numpy, matplotlib, scipy)의 도움을 받아 과학분야 컴퓨팅을 이용한 강력한 환경을 제공한다. 그 중에서 머신러닝에 꼭 필요한 기능들만을 요약해서 설명한다."
   ]
  },
  {
   "cell_type": "code",
   "execution_count": 27,
   "metadata": {},
   "outputs": [
    {
     "name": "stdout",
     "output_type": "stream",
     "text": [
      "Hello World!\n"
     ]
    }
   ],
   "source": [
    "#Hello World!출력 예제\n",
    "print(\"Hello World!\")"
   ]
  },
  {
   "cell_type": "markdown",
   "metadata": {},
   "source": [
    "# 1. Data type\n",
    "## Numbers"
   ]
  },
  {
   "cell_type": "code",
   "execution_count": 28,
   "metadata": {},
   "outputs": [
    {
     "name": "stdout",
     "output_type": "stream",
     "text": [
      "x=  5 <class 'int'>\n",
      "x+1=  6\n",
      "x-1 4\n",
      "x*1=  5\n",
      "x**2=  25\n",
      "x/2=  2.5\n",
      "x//2=  2\n",
      "x%2=  1\n",
      "x+=1 =>  6\n",
      "y=  2.5 <class 'float'>\n",
      "2.5 3.5 1.5 5.0 6.25\n"
     ]
    }
   ],
   "source": [
    "x=5 #정수\n",
    "print('x= ', x, type(x))#변수 값과 타입 출력\n",
    "print('x+1= ', x+1)#덧셈\n",
    "print('x-1', x-1)#뻴셈\n",
    "print('x*1= ', x*1)#곱셈\n",
    "print('x**2= ', x**2)#제곱\n",
    "print('x/2= ', x/2)#나눗셈\n",
    "print('x//2= ', x//2)#몫\n",
    "print('x%2= ', x%2)#나머지\n",
    "\n",
    "x+=1;print('x+=1 => ', x)#복합 연산(x=x+1)\n",
    "\n",
    "y=2.5#실수(float)를 변수로 저장\n",
    "print('y= ', y, type(y))\n",
    "print(y, y+1, y-1, y*2, y**2)"
   ]
  },
  {
   "cell_type": "markdown",
   "metadata": {},
   "source": [
    "<b>주의: </b>많은 다른 프로그래밍 언어들과는 달리 파이썬에는 단항 증가(x++) 또는 단항 감소(x--) 연산자가 없다."
   ]
  },
  {
   "cell_type": "markdown",
   "metadata": {},
   "source": [
    "<h3>Booleans</h3>\n",
    "파이썬은 불리언 논리에 대한 모든 일반적인 연산자를 구현하지만 기호(&&, ||등)보다는 영어단어(and, or, not)를 사용한다."
   ]
  },
  {
   "cell_type": "code",
   "execution_count": 29,
   "metadata": {},
   "outputs": [
    {
     "name": "stdout",
     "output_type": "stream",
     "text": [
      "<class 'bool'>\n",
      "t and f=  False\n",
      "t or f=  True\n",
      "not t=  False\n",
      "t!=f True\n"
     ]
    }
   ],
   "source": [
    "t=True\n",
    "f=False\n",
    "print(type(t))#논리값 타입\n",
    "print('t and f= ', t and f)#True and False\n",
    "print('t or f= ', t or f)#True or False\n",
    "print('not t= ', not t)#not Ture\n",
    "print('t!=f', t!=f)#True !=(not equal) False"
   ]
  },
  {
   "cell_type": "markdown",
   "metadata": {},
   "source": [
    "<h3>Strings</h3>\n",
    "파이썬은 문자열을 크게 지원한다."
   ]
  },
  {
   "cell_type": "code",
   "execution_count": 30,
   "metadata": {},
   "outputs": [
    {
     "name": "stdout",
     "output_type": "stream",
     "text": [
      "hello\n",
      "5\n",
      "hello world\n",
      "\n",
      "Hi!\n",
      "    Good morning...\n",
      "            nice to meet you\n",
      "\n",
      "Happy New 2023\n"
     ]
    }
   ],
   "source": [
    "h=\"hello\"\n",
    "w=\"world\"\n",
    "print(h)\n",
    "print(len(h))#문자열의 길이\n",
    "hw=h+' '+w\n",
    "print(hw)\n",
    "greeting='''\n",
    "Hi!\n",
    "    Good morning...\n",
    "            nice to meet you\n",
    "'''\n",
    "print(greeting)\n",
    "no=2023\n",
    "hw12=f'{h} {w} {no}'\n",
    "print(f'Happy New {no}')"
   ]
  },
  {
   "cell_type": "markdown",
   "metadata": {},
   "source": [
    "String 객체는 유용한 메소드를 많이 가지고 있다."
   ]
  },
  {
   "cell_type": "code",
   "execution_count": 31,
   "metadata": {},
   "outputs": [
    {
     "name": "stdout",
     "output_type": "stream",
     "text": [
      "Hello\n",
      "HELLO\n",
      "     hello\n",
      "   hello   \n",
      "heggo\n",
      "world\n"
     ]
    }
   ],
   "source": [
    "s=\"hello\"\n",
    "print(s.capitalize())#첫 글자를 대문자로\n",
    "print(s.upper())#모두 대문자로\n",
    "print(s.rjust(10))#오른쪽으로 정렬(왼쪽에 5개의 공백(전채 너비 개수=10))\n",
    "print(s.center(11))#중앙정렬\n",
    "print(s.replace('l', 'g'))#'l'을 'g'로 대체\n",
    "print( '    world'.strip())#공백 지우기"
   ]
  },
  {
   "cell_type": "markdown",
   "metadata": {},
   "source": [
    "<a href=\"https://docs.python.org/3.5/library/stdtypes.html#string-methods\">(링크)모든 문자열 메서드 목록</a>"
   ]
  },
  {
   "cell_type": "markdown",
   "metadata": {},
   "source": [
    "<h2>5. Containers</h2>\n",
    "여러 데이터들을 묶어서 하나로 다루는데 유용한 파이썬의 기본 내장 컨테이너 유형에는 list, dictionary, set, tuple등이 있다.\n",
    "<h4>5.1. List</h4>\n",
    "리스트는 파이썬에서의 배열로써 크기를 변경할 수 있고(resizeable). 서로 다른 유형의 요소(숫자, 문자. 리스트 등)들을 포함할 수 있다."
   ]
  },
  {
   "cell_type": "code",
   "execution_count": 32,
   "metadata": {},
   "outputs": [
    {
     "name": "stdout",
     "output_type": "stream",
     "text": [
      "[3, 1, 2] 2\n",
      "2\n",
      "[3, 1, 'foo']\n",
      "[3, 1, 'foo', 'bar']\n",
      "bar [3, 1, 'foo']\n"
     ]
    }
   ],
   "source": [
    "xs=[3, 1, 2]#리스트를 변수로 저장\n",
    "print(xs, xs[2])#2번 인덱스(3번째)에 있는 요소\n",
    "print(xs[-1])#마지막 인덱스(음수는 끝에서부터 센다.)\n",
    "xs[2]='foo'#주어진 인덱스의 값을 변경\n",
    "print(xs)\n",
    "xs.append('bar')#마지막 값으로 추가\n",
    "print(xs)\n",
    "x=xs.pop()#마지막 요소를 끄집어내기\n",
    "print(x, xs)"
   ]
  },
  {
   "cell_type": "code",
   "execution_count": 33,
   "metadata": {},
   "outputs": [
    {
     "name": "stdout",
     "output_type": "stream",
     "text": [
      "[1, 2, 3]\n",
      "[1, 2, 3, 'a']\n",
      "[1, 2]\n",
      "[1, 3]\n"
     ]
    }
   ],
   "source": [
    "list_1=[1, 2, 3]#변수명에 올 수 있는 기호: 문자, 숫자, 언더바(_)\n",
    "print(list_1)\n",
    "list_1.append(\"a\")\n",
    "print(list_1)\n",
    "print(list_1[:2])# 처음부터 2번 인덱스 전까지(인덱스 0에서 인덱스 1까지)\n",
    "del list_1[1]\n",
    "list_1.pop()\n",
    "print(list_1)"
   ]
  },
  {
   "cell_type": "markdown",
   "metadata": {},
   "source": [
    "<b>Slicing</b>: 목록 요소를 한 번에 하나씩 액세스하는 것 외에도 Python은 일부 목록에 액세스하기 위한 간결한 구문을 제공합니다. 이를 <b>\"Slicing\"</b>이라 부릅니다."
   ]
  },
  {
   "cell_type": "code",
   "execution_count": 34,
   "metadata": {},
   "outputs": [
    {
     "name": "stdout",
     "output_type": "stream",
     "text": [
      "[0, 1, 2, 3, 4]\n",
      "[2, 3]\n",
      "[2, 3, 4]\n",
      "[0, 1]\n",
      "[0, 1, 2, 3]\n",
      "[0, 1, 8, 9, 4]\n"
     ]
    }
   ],
   "source": [
    "nums=list(range(5))#00부터 시작해서 5라는 숫자 앞까지 숫자로 리턴\n",
    "print(nums)\n",
    "print(nums[2:4])#2부터 4번 인덱스 전까지\n",
    "print(nums[2: ])#2부터 마지막 인덱스 전까지\n",
    "print(nums[ :2])#0부터 2번 인덱스 전까지\n",
    "print(nums[:-1])#0부터 마지막 인덱스 전까지\n",
    "nums[2:4]=[8, 9]#2, 3이 8, 9로 바꿔치기됨\n",
    "print(nums)"
   ]
  },
  {
   "cell_type": "markdown",
   "metadata": {},
   "source": [
    "프로그래밍 할  때 종종 한 유형의 데이터를 다른 데이터로 변환할 경우가 있다. 간단한 예로, 제곱 값을 계산하는 다음 코드를 생각해 보자."
   ]
  },
  {
   "cell_type": "code",
   "execution_count": 35,
   "metadata": {},
   "outputs": [
    {
     "name": "stdout",
     "output_type": "stream",
     "text": [
      "[0, 1, 4, 9, 16]\n"
     ]
    }
   ],
   "source": [
    "nums=list(range(5))\n",
    "squares=[]\n",
    "for x in nums:\n",
    "    squares.append(x**2)\n",
    "print(squares)"
   ]
  },
  {
   "cell_type": "markdown",
   "metadata": {},
   "source": [
    "<b>List Comprehension</b>을 사용하여, 이 코드를 더 간단하게 만들 수 있다."
   ]
  },
  {
   "cell_type": "code",
   "execution_count": 36,
   "metadata": {},
   "outputs": [
    {
     "name": "stdout",
     "output_type": "stream",
     "text": [
      "[0, 1, 4, 9, 16]\n"
     ]
    }
   ],
   "source": [
    "squares=[x**2 for x in nums]\n",
    "print(squares)"
   ]
  },
  {
   "cell_type": "code",
   "execution_count": 37,
   "metadata": {},
   "outputs": [
    {
     "name": "stdout",
     "output_type": "stream",
     "text": [
      "[0, 4, 16]\n"
     ]
    }
   ],
   "source": [
    "even_squares=[x**2 for x in nums if x%2==0]\n",
    "print(even_squares)"
   ]
  },
  {
   "cell_type": "markdown",
   "metadata": {},
   "source": [
    "<h3>5.2. Dictionary</h3>\n",
    "Dictionary는 Java의 Map 또는 JS의 오브젝트와 유사한(키, 값)쌍을 저장한다. 다음과 같이 사용할 수 있다."
   ]
  },
  {
   "cell_type": "code",
   "execution_count": 38,
   "metadata": {},
   "outputs": [
    {
     "name": "stdout",
     "output_type": "stream",
     "text": [
      "cute\n",
      "True\n",
      "{'cat': 'cute', 'dog': 'furry', 'fish': 'wet'}\n",
      "wet\n",
      "{'cat': 'cute', 'dog': 'furry'}\n"
     ]
    }
   ],
   "source": [
    "d={'cat':'cute', 'dog':'furry'}\n",
    "print(d['cat'])#'cat'이라는 key 값을 사용\n",
    "print('cat' in d)#d에 'cat'값이 있는지를 확인\n",
    "d['fish']='wet'#(key, value)요소 추가\n",
    "print(d)\n",
    "print(d['fish'])\n",
    "del d['fish']\n",
    "print(d)"
   ]
  },
  {
   "cell_type": "markdown",
   "metadata": {},
   "source": [
    "<b>Loops: </b>dictionary의 키를 반복하는 것은 쉽다."
   ]
  },
  {
   "cell_type": "code",
   "execution_count": 39,
   "metadata": {},
   "outputs": [
    {
     "name": "stdout",
     "output_type": "stream",
     "text": [
      "A person has 2 legs\n",
      "A cat has 4 legs\n",
      "A spyder has 8 legs\n"
     ]
    }
   ],
   "source": [
    "d={'person':2, 'cat':4, 'spyder':8}\n",
    "for animal in d:\n",
    "    legs=d[animal]#하나의 특정한 값을 접근하기 우해 [] 사용\n",
    "    print('A %s has %d legs' %(animal, legs))"
   ]
  },
  {
   "cell_type": "markdown",
   "metadata": {},
   "source": [
    "키와 해당 값에 액세스하려면 items 메서드를 사용한다."
   ]
  },
  {
   "cell_type": "code",
   "execution_count": 40,
   "metadata": {},
   "outputs": [
    {
     "name": "stdout",
     "output_type": "stream",
     "text": [
      "A person has 2 legs\n",
      "A cat has 4 legs\n",
      "A spyder has 8 legs\n"
     ]
    }
   ],
   "source": [
    "d={'person':2, 'cat':4, 'spyder':8}\n",
    "for animal, legs in d.items():\n",
    "    print('A %s has %d legs' %(animal, legs))#key, value값 모두 리턴"
   ]
  },
  {
   "cell_type": "markdown",
   "metadata": {},
   "source": [
    "Dictionary comprehension: 이것은 List Comprehention과 유사하지만, 쉽게 사전을 구성할 수 있게 해준다."
   ]
  },
  {
   "cell_type": "code",
   "execution_count": 41,
   "metadata": {},
   "outputs": [
    {
     "name": "stdout",
     "output_type": "stream",
     "text": [
      "{0: 0, 2: 4, 4: 16}\n"
     ]
    }
   ],
   "source": [
    "nums=list(range(5))\n",
    "even_num_to_squares={x:x**2 for x in nums if x%2==0}#2의 배수만 골라서 넣어주기\n",
    "print(even_num_to_squares)"
   ]
  },
  {
   "cell_type": "markdown",
   "metadata": {},
   "source": [
    "<h3>5.3. Tuples</h3>\n",
    "튜플을 (1), (3, 2) 또는 (4, 2, 1)...  과 같은 괄호 안의 쉼표로 구분된 숫자들로 구성되며, 값이 <b>불변(변경이 불가함)하는</b> 목록이다. 튜플은 여러 면에서 리스트와 유사하다. 가장 중요한 차이점 중 하나는 튜플을 <b>Dictionary</b>의 키로 사용할 수 있고, <b>list</b>의 요소로 사용할 수 있다는 것이다 <b>numpy의 배열(array)</b>에서는 모양을 정의할 때 사용한다. "
   ]
  },
  {
   "cell_type": "code",
   "execution_count": 42,
   "metadata": {},
   "outputs": [
    {
     "name": "stdout",
     "output_type": "stream",
     "text": [
      "{(0, 1): 0, (1, 2): 1, (2, 3): 2, (3, 4): 3, (4, 5): 4, (5, 6): 5, (6, 7): 6, (7, 8): 7, (8, 9): 8, (9, 10): 9}\n",
      "<class 'tuple'>\n",
      "5\n",
      "1\n"
     ]
    }
   ],
   "source": [
    "d={(x, x+1): x for x in range(10)}\n",
    "print(d)\n",
    "t=(5, 6)\n",
    "print(type(t))\n",
    "print(d[t])\n",
    "print(d[(1, 2)])"
   ]
  },
  {
   "cell_type": "markdown",
   "metadata": {},
   "source": [
    "<h2>6. Function</h2>\n",
    "파이썬 함수는 <b>def</b>키워드를 사용하여 정의된다."
   ]
  },
  {
   "cell_type": "code",
   "execution_count": 44,
   "metadata": {},
   "outputs": [
    {
     "name": "stdout",
     "output_type": "stream",
     "text": [
      "positive\n",
      "zero\n",
      "nagative\n"
     ]
    }
   ],
   "source": [
    "def sign(x):\n",
    "    if x>0:\n",
    "        return 'positive'\n",
    "    elif x<0:\n",
    "        return 'nagative'\n",
    "    else:\n",
    "        return 'zero'\n",
    "\n",
    "for x in [1, 0, -1]:\n",
    "    print(sign(x))"
   ]
  },
  {
   "cell_type": "markdown",
   "metadata": {},
   "source": [
    "다음과 같이 선택적 키워드 인수를 취하는 함수를 정의한다."
   ]
  },
  {
   "cell_type": "code",
   "execution_count": 45,
   "metadata": {},
   "outputs": [
    {
     "name": "stdout",
     "output_type": "stream",
     "text": [
      "Hello, Bob!\n",
      "HELLO, FRED!\n"
     ]
    }
   ],
   "source": [
    "def hello(name, loud=False): # loud의 default값 = False\n",
    "    if loud:\n",
    "        print(f'HELLO, {name.upper()}!')   \n",
    "    else:\n",
    "        print(f'Hello, {name}!')\n",
    "\n",
    "hello('Bob')\n",
    "hello('Fred', loud=True)"
   ]
  },
  {
   "cell_type": "markdown",
   "metadata": {},
   "source": [
    "<h1>"
   ]
  }
 ],
 "metadata": {
  "kernelspec": {
   "display_name": "Python 3",
   "language": "python",
   "name": "python3"
  },
  "language_info": {
   "codemirror_mode": {
    "name": "ipython",
    "version": 3
   },
   "file_extension": ".py",
   "mimetype": "text/x-python",
   "name": "python",
   "nbconvert_exporter": "python",
   "pygments_lexer": "ipython3",
   "version": "3.9.2"
  },
  "orig_nbformat": 4
 },
 "nbformat": 4,
 "nbformat_minor": 2
}
